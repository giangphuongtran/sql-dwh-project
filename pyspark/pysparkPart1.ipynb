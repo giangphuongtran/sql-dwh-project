{
 "cells": [
  {
   "cell_type": "code",
   "execution_count": null,
   "id": "f10bc1a0",
   "metadata": {},
   "outputs": [],
   "source": []
  }
 ],
 "metadata": {
  "kernelspec": {
   "display_name": ".de-projects",
   "language": "python",
   "name": "python3"
  },
  "language_info": {
   "name": "python",
   "version": "3.13.3"
  }
 },
 "nbformat": 4,
 "nbformat_minor": 5
}
