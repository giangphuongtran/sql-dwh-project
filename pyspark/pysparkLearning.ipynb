{
 "cells": [
  {
   "cell_type": "code",
   "execution_count": 1,
   "id": "3683e009",
   "metadata": {},
   "outputs": [],
   "source": [
    "import pyspark\n",
    "from pyspark.sql import SparkSession"
   ]
  },
  {
   "cell_type": "code",
   "execution_count": 2,
   "id": "ef7ac7bd",
   "metadata": {},
   "outputs": [
    {
     "name": "stderr",
     "output_type": "stream",
     "text": [
      "WARNING: Using incubator modules: jdk.incubator.vector\n",
      "Using Spark's default log4j profile: org/apache/spark/log4j2-defaults.properties\n",
      "Setting default log level to \"WARN\".\n",
      "To adjust logging level use sc.setLogLevel(newLevel). For SparkR, use setLogLevel(newLevel).\n",
      "25/06/15 16:14:19 WARN NativeCodeLoader: Unable to load native-hadoop library for your platform... using builtin-java classes where applicable\n"
     ]
    }
   ],
   "source": [
    "spark = SparkSession.builder.appName('Dataframe').getOrCreate()"
   ]
  },
  {
   "cell_type": "code",
   "execution_count": 3,
   "id": "fd48d120",
   "metadata": {},
   "outputs": [
    {
     "data": {
      "text/html": [
       "\n",
       "            <div>\n",
       "                <p><b>SparkSession - in-memory</b></p>\n",
       "                \n",
       "        <div>\n",
       "            <p><b>SparkContext</b></p>\n",
       "\n",
       "            <p><a href=\"http://zanglake.lan:4040\">Spark UI</a></p>\n",
       "\n",
       "            <dl>\n",
       "              <dt>Version</dt>\n",
       "                <dd><code>v4.0.0</code></dd>\n",
       "              <dt>Master</dt>\n",
       "                <dd><code>local[*]</code></dd>\n",
       "              <dt>AppName</dt>\n",
       "                <dd><code>Dataframe</code></dd>\n",
       "            </dl>\n",
       "        </div>\n",
       "        \n",
       "            </div>\n",
       "        "
      ],
      "text/plain": [
       "<pyspark.sql.session.SparkSession at 0x106ef0750>"
      ]
     },
     "execution_count": 3,
     "metadata": {},
     "output_type": "execute_result"
    }
   ],
   "source": [
    "spark"
   ]
  },
  {
   "cell_type": "code",
   "execution_count": 29,
   "id": "a99b7cbe",
   "metadata": {},
   "outputs": [],
   "source": [
    "# Read the dataset\n",
    "df = spark.read.option(\"delimiter\", \";\").option(\"header\", \"true\").csv('test1.csv', inferSchema=True)\n",
    "# Another way\n",
    "# df = spark.read.option(\"delimiter\", \";\").csv('test1.csv', header= True, inferSchema=True)"
   ]
  },
  {
   "cell_type": "code",
   "execution_count": 30,
   "id": "267c4021",
   "metadata": {},
   "outputs": [
    {
     "name": "stdout",
     "output_type": "stream",
     "text": [
      "+---------+----+-------+\n",
      "|     Name| Age| Salary|\n",
      "+---------+----+-------+\n",
      "|    Krish|  31| 200000|\n",
      "|Sudhanshu|  30| 500000|\n",
      "|    Sunny|  29|   NULL|\n",
      "|      Ama|  37|  40000|\n",
      "|       Mi|  25| 150000|\n",
      "|     NULL|NULL|6000000|\n",
      "+---------+----+-------+\n",
      "\n"
     ]
    }
   ],
   "source": [
    "df.show()"
   ]
  },
  {
   "cell_type": "code",
   "execution_count": 31,
   "id": "b1bf7662-3212-4686-90de-2a847f13ce07",
   "metadata": {},
   "outputs": [
    {
     "data": {
      "text/plain": [
       "pyspark.sql.classic.dataframe.DataFrame"
      ]
     },
     "execution_count": 31,
     "metadata": {},
     "output_type": "execute_result"
    }
   ],
   "source": [
    "type(df)"
   ]
  },
  {
   "cell_type": "code",
   "execution_count": 32,
   "id": "d12ea5ca-28d4-4829-aa7b-e3f9663cd85f",
   "metadata": {},
   "outputs": [
    {
     "name": "stdout",
     "output_type": "stream",
     "text": [
      "root\n",
      " |-- Name: string (nullable = true)\n",
      " |-- Age: integer (nullable = true)\n",
      " |-- Salary: integer (nullable = true)\n",
      "\n"
     ]
    }
   ],
   "source": [
    "# Check the schema\n",
    "df.printSchema()"
   ]
  },
  {
   "cell_type": "code",
   "execution_count": 33,
   "id": "c39a1217",
   "metadata": {},
   "outputs": [
    {
     "data": {
      "text/plain": [
       "['Name', 'Age', 'Salary']"
      ]
     },
     "execution_count": 33,
     "metadata": {},
     "output_type": "execute_result"
    }
   ],
   "source": [
    "df.columns"
   ]
  },
  {
   "cell_type": "code",
   "execution_count": 34,
   "id": "a2fdfa54",
   "metadata": {},
   "outputs": [
    {
     "name": "stdout",
     "output_type": "stream",
     "text": [
      "+---------+----+\n",
      "|     Name| Age|\n",
      "+---------+----+\n",
      "|    Krish|  31|\n",
      "|Sudhanshu|  30|\n",
      "|    Sunny|  29|\n",
      "|      Ama|  37|\n",
      "|       Mi|  25|\n",
      "|     NULL|NULL|\n",
      "+---------+----+\n",
      "\n"
     ]
    }
   ],
   "source": [
    "df.select(['Name', 'Age']).show()"
   ]
  },
  {
   "cell_type": "code",
   "execution_count": 35,
   "id": "34df848a",
   "metadata": {},
   "outputs": [
    {
     "name": "stdout",
     "output_type": "stream",
     "text": [
      "+-------+-----+----------------+-----------------+\n",
      "|summary| Name|             Age|           Salary|\n",
      "+-------+-----+----------------+-----------------+\n",
      "|  count|    5|               5|                5|\n",
      "|   mean| NULL|            30.4|        1378000.0|\n",
      "| stddev| NULL|4.33589667773576|2589386.027613496|\n",
      "|    min|  Ama|              25|            40000|\n",
      "|    max|Sunny|              37|          6000000|\n",
      "+-------+-----+----------------+-----------------+\n",
      "\n"
     ]
    }
   ],
   "source": [
    "df.describe().show()"
   ]
  },
  {
   "cell_type": "code",
   "execution_count": 36,
   "id": "e42ac449",
   "metadata": {},
   "outputs": [],
   "source": [
    "df = df.withColumn('Experience', df['Age'] - 24)"
   ]
  },
  {
   "cell_type": "code",
   "execution_count": 37,
   "id": "4ca4adf6",
   "metadata": {},
   "outputs": [
    {
     "name": "stdout",
     "output_type": "stream",
     "text": [
      "+---------+----+-------+----------+\n",
      "|     Name| Age| Salary|Experience|\n",
      "+---------+----+-------+----------+\n",
      "|    Krish|  31| 200000|         7|\n",
      "|Sudhanshu|  30| 500000|         6|\n",
      "|    Sunny|  29|   NULL|         5|\n",
      "|      Ama|  37|  40000|        13|\n",
      "|       Mi|  25| 150000|         1|\n",
      "|     NULL|NULL|6000000|      NULL|\n",
      "+---------+----+-------+----------+\n",
      "\n"
     ]
    }
   ],
   "source": [
    "df.show()"
   ]
  },
  {
   "cell_type": "code",
   "execution_count": 38,
   "id": "31f8ed76",
   "metadata": {},
   "outputs": [
    {
     "name": "stdout",
     "output_type": "stream",
     "text": [
      "+---------+---+------+----------+\n",
      "|     Name|Age|Salary|Experience|\n",
      "+---------+---+------+----------+\n",
      "|    Krish| 31|200000|         7|\n",
      "|Sudhanshu| 30|500000|         6|\n",
      "|      Ama| 37| 40000|        13|\n",
      "|       Mi| 25|150000|         1|\n",
      "+---------+---+------+----------+\n",
      "\n"
     ]
    }
   ],
   "source": [
    "df.na.drop().show()"
   ]
  },
  {
   "cell_type": "code",
   "execution_count": 39,
   "id": "df726003",
   "metadata": {},
   "outputs": [
    {
     "name": "stdout",
     "output_type": "stream",
     "text": [
      "+---------+----+-------+----------+\n",
      "|     Name| Age| Salary|Experience|\n",
      "+---------+----+-------+----------+\n",
      "|    Krish|  31| 200000|         7|\n",
      "|Sudhanshu|  30| 500000|         6|\n",
      "|    Sunny|  29|   NULL|         5|\n",
      "|      Ama|  37|  40000|        13|\n",
      "|       Mi|  25| 150000|         1|\n",
      "|     NULL|NULL|6000000|      NULL|\n",
      "+---------+----+-------+----------+\n",
      "\n"
     ]
    }
   ],
   "source": [
    "df.na.drop(how=\"all\").show()"
   ]
  },
  {
   "cell_type": "code",
   "execution_count": 40,
   "id": "da31f9c7",
   "metadata": {},
   "outputs": [
    {
     "name": "stdout",
     "output_type": "stream",
     "text": [
      "+---------+---+------+----------+\n",
      "|     Name|Age|Salary|Experience|\n",
      "+---------+---+------+----------+\n",
      "|    Krish| 31|200000|         7|\n",
      "|Sudhanshu| 30|500000|         6|\n",
      "|      Ama| 37| 40000|        13|\n",
      "|       Mi| 25|150000|         1|\n",
      "+---------+---+------+----------+\n",
      "\n"
     ]
    }
   ],
   "source": [
    "df.na.drop(how='any').show()"
   ]
  },
  {
   "cell_type": "code",
   "execution_count": null,
   "id": "674404a4",
   "metadata": {},
   "outputs": [
    {
     "name": "stdout",
     "output_type": "stream",
     "text": [
      "+---------+---+------+----------+\n",
      "|     Name|Age|Salary|Experience|\n",
      "+---------+---+------+----------+\n",
      "|    Krish| 31|200000|         7|\n",
      "|Sudhanshu| 30|500000|         6|\n",
      "|    Sunny| 29|  NULL|         5|\n",
      "|      Ama| 37| 40000|        13|\n",
      "|       Mi| 25|150000|         1|\n",
      "+---------+---+------+----------+\n",
      "\n"
     ]
    }
   ],
   "source": [
    "# The row must contain at least thresh value to not be drop\n",
    "df.na.drop(thresh=2).show()"
   ]
  },
  {
   "cell_type": "code",
   "execution_count": 44,
   "id": "0f02fa13",
   "metadata": {},
   "outputs": [],
   "source": [
    "from pyspark.ml.feature import Imputer\n",
    "\n",
    "imputer = Imputer(\n",
    "    inputCols= ['Age', 'Salary', 'Experience'],\n",
    "    outputCols= ['{}_imputed'.format(c) for c in ['Age', 'Salary', 'Experience']]\n",
    ").setStrategy('mean')"
   ]
  },
  {
   "cell_type": "code",
   "execution_count": 45,
   "id": "fee5648b",
   "metadata": {},
   "outputs": [
    {
     "name": "stdout",
     "output_type": "stream",
     "text": [
      "+---------+----+-------+----------+-----------+--------------+------------------+\n",
      "|     Name| Age| Salary|Experience|Age_imputed|Salary_imputed|Experience_imputed|\n",
      "+---------+----+-------+----------+-----------+--------------+------------------+\n",
      "|    Krish|  31| 200000|         7|         31|        200000|                 7|\n",
      "|Sudhanshu|  30| 500000|         6|         30|        500000|                 6|\n",
      "|    Sunny|  29|   NULL|         5|         29|       1378000|                 5|\n",
      "|      Ama|  37|  40000|        13|         37|         40000|                13|\n",
      "|       Mi|  25| 150000|         1|         25|        150000|                 1|\n",
      "|     NULL|NULL|6000000|      NULL|         30|       6000000|                 6|\n",
      "+---------+----+-------+----------+-----------+--------------+------------------+\n",
      "\n"
     ]
    }
   ],
   "source": [
    "imputer.fit(df).transform(df).show()"
   ]
  },
  {
   "cell_type": "code",
   "execution_count": 47,
   "id": "6e65fb69",
   "metadata": {},
   "outputs": [
    {
     "name": "stdout",
     "output_type": "stream",
     "text": [
      "+-----+---+------+----------+\n",
      "| Name|Age|Salary|Experience|\n",
      "+-----+---+------+----------+\n",
      "|Krish| 31|200000|         7|\n",
      "|  Ama| 37| 40000|        13|\n",
      "|   Mi| 25|150000|         1|\n",
      "+-----+---+------+----------+\n",
      "\n"
     ]
    }
   ],
   "source": [
    "df.filter('Salary<=200000').show()"
   ]
  },
  {
   "cell_type": "code",
   "execution_count": 48,
   "id": "57d5dd4e",
   "metadata": {},
   "outputs": [
    {
     "name": "stdout",
     "output_type": "stream",
     "text": [
      "+-----+---+------+----------+\n",
      "| Name|Age|Salary|Experience|\n",
      "+-----+---+------+----------+\n",
      "|Krish| 31|200000|         7|\n",
      "|  Ama| 37| 40000|        13|\n",
      "|   Mi| 25|150000|         1|\n",
      "+-----+---+------+----------+\n",
      "\n"
     ]
    }
   ],
   "source": [
    "df.filter(df['Salary']<=200000).show()"
   ]
  },
  {
   "cell_type": "code",
   "execution_count": 49,
   "id": "ecac04c6",
   "metadata": {},
   "outputs": [
    {
     "name": "stdout",
     "output_type": "stream",
     "text": [
      "+-----+---+\n",
      "| Name|Age|\n",
      "+-----+---+\n",
      "|Krish| 31|\n",
      "|  Ama| 37|\n",
      "|   Mi| 25|\n",
      "+-----+---+\n",
      "\n"
     ]
    }
   ],
   "source": [
    "df.filter(df['Salary']<=200000).select(['Name', 'Age']).show()"
   ]
  },
  {
   "cell_type": "code",
   "execution_count": 51,
   "id": "2f98f916",
   "metadata": {},
   "outputs": [
    {
     "name": "stdout",
     "output_type": "stream",
     "text": [
      "+-----+---+------+----------+\n",
      "| Name|Age|Salary|Experience|\n",
      "+-----+---+------+----------+\n",
      "|Krish| 31|200000|         7|\n",
      "|   Mi| 25|150000|         1|\n",
      "+-----+---+------+----------+\n",
      "\n"
     ]
    }
   ],
   "source": [
    "df.filter((df['Salary']<=200000) & (df.Salary >=150000)).show()"
   ]
  },
  {
   "cell_type": "code",
   "execution_count": 52,
   "id": "c900ec57",
   "metadata": {},
   "outputs": [
    {
     "name": "stdout",
     "output_type": "stream",
     "text": [
      "+---------+--------+-----------+---------------+\n",
      "|     Name|sum(Age)|sum(Salary)|sum(Experience)|\n",
      "+---------+--------+-----------+---------------+\n",
      "|     NULL|    NULL|    6000000|           NULL|\n",
      "|Sudhanshu|      30|     500000|              6|\n",
      "|    Sunny|      29|       NULL|              5|\n",
      "|    Krish|      31|     200000|              7|\n",
      "|      Ama|      37|      40000|             13|\n",
      "|       Mi|      25|     150000|              1|\n",
      "+---------+--------+-----------+---------------+\n",
      "\n"
     ]
    }
   ],
   "source": [
    "df.groupBy('Name').sum().show()"
   ]
  },
  {
   "cell_type": "code",
   "execution_count": null,
   "id": "609b1794",
   "metadata": {},
   "outputs": [],
   "source": [
    " "
   ]
  }
 ],
 "metadata": {
  "kernelspec": {
   "display_name": ".de-projects",
   "language": "python",
   "name": "python3"
  },
  "language_info": {
   "codemirror_mode": {
    "name": "ipython",
    "version": 3
   },
   "file_extension": ".py",
   "mimetype": "text/x-python",
   "name": "python",
   "nbconvert_exporter": "python",
   "pygments_lexer": "ipython3",
   "version": "3.11.13"
  }
 },
 "nbformat": 4,
 "nbformat_minor": 5
}
